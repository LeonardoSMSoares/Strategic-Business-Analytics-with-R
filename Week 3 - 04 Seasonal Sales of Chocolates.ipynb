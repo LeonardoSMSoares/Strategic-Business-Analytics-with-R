{
 "cells": [
  {
   "cell_type": "markdown",
   "metadata": {},
   "source": [
    "# Seasonal Sales of Chocolates"
   ]
  },
  {
   "cell_type": "markdown",
   "metadata": {},
   "source": [
    "**Loading csv files**"
   ]
  },
  {
   "cell_type": "code",
   "execution_count": 1,
   "metadata": {},
   "outputs": [
    {
     "data": {
      "text/html": [
       "<table>\n",
       "<caption>A data.frame: 6 × 4</caption>\n",
       "<thead>\n",
       "\t<tr><th></th><th scope=col>time</th><th scope=col>sales</th><th scope=col>year</th><th scope=col>month</th></tr>\n",
       "\t<tr><th></th><th scope=col>&lt;int&gt;</th><th scope=col>&lt;dbl&gt;</th><th scope=col>&lt;int&gt;</th><th scope=col>&lt;fct&gt;</th></tr>\n",
       "</thead>\n",
       "<tbody>\n",
       "\t<tr><th scope=row>1</th><td>1</td><td>135.48187</td><td>2000</td><td>01_January </td></tr>\n",
       "\t<tr><th scope=row>2</th><td>2</td><td>281.75873</td><td>2000</td><td>02_February</td></tr>\n",
       "\t<tr><th scope=row>3</th><td>3</td><td>170.80064</td><td>2000</td><td>03_March   </td></tr>\n",
       "\t<tr><th scope=row>4</th><td>4</td><td>171.09512</td><td>2000</td><td>04_April   </td></tr>\n",
       "\t<tr><th scope=row>5</th><td>5</td><td>179.02492</td><td>2000</td><td>05_May     </td></tr>\n",
       "\t<tr><th scope=row>6</th><td>6</td><td> 55.16525</td><td>2000</td><td>06_June    </td></tr>\n",
       "</tbody>\n",
       "</table>\n"
      ],
      "text/latex": [
       "A data.frame: 6 × 4\n",
       "\\begin{tabular}{r|llll}\n",
       "  & time & sales & year & month\\\\\n",
       "  & <int> & <dbl> & <int> & <fct>\\\\\n",
       "\\hline\n",
       "\t1 & 1 & 135.48187 & 2000 & 01\\_January \\\\\n",
       "\t2 & 2 & 281.75873 & 2000 & 02\\_February\\\\\n",
       "\t3 & 3 & 170.80064 & 2000 & 03\\_March   \\\\\n",
       "\t4 & 4 & 171.09512 & 2000 & 04\\_April   \\\\\n",
       "\t5 & 5 & 179.02492 & 2000 & 05\\_May     \\\\\n",
       "\t6 & 6 &  55.16525 & 2000 & 06\\_June    \\\\\n",
       "\\end{tabular}\n"
      ],
      "text/markdown": [
       "\n",
       "A data.frame: 6 × 4\n",
       "\n",
       "| <!--/--> | time &lt;int&gt; | sales &lt;dbl&gt; | year &lt;int&gt; | month &lt;fct&gt; |\n",
       "|---|---|---|---|---|\n",
       "| 1 | 1 | 135.48187 | 2000 | 01_January  |\n",
       "| 2 | 2 | 281.75873 | 2000 | 02_February |\n",
       "| 3 | 3 | 170.80064 | 2000 | 03_March    |\n",
       "| 4 | 4 | 171.09512 | 2000 | 04_April    |\n",
       "| 5 | 5 | 179.02492 | 2000 | 05_May      |\n",
       "| 6 | 6 |  55.16525 | 2000 | 06_June     |\n",
       "\n"
      ],
      "text/plain": [
       "  time sales     year month      \n",
       "1 1    135.48187 2000 01_January \n",
       "2 2    281.75873 2000 02_February\n",
       "3 3    170.80064 2000 03_March   \n",
       "4 4    171.09512 2000 04_April   \n",
       "5 5    179.02492 2000 05_May     \n",
       "6 6     55.16525 2000 06_June    "
      ]
     },
     "metadata": {},
     "output_type": "display_data"
    }
   ],
   "source": [
    "CHOC <- read.csv(\"data/DATA_4.04_CHOC.csv\")\n",
    "head(CHOC)"
   ]
  },
  {
   "cell_type": "markdown",
   "metadata": {},
   "source": [
    "**Exploring the \"CHOC\" Data**"
   ]
  },
  {
   "cell_type": "code",
   "execution_count": 4,
   "metadata": {},
   "outputs": [
    {
     "name": "stdout",
     "output_type": "stream",
     "text": [
      "'data.frame':\t120 obs. of  4 variables:\n",
      " $ time : int  1 2 3 4 5 6 7 8 9 10 ...\n",
      " $ sales: num  135 282 171 171 179 ...\n",
      " $ year : int  2000 2000 2000 2000 2000 2000 2000 2000 2000 2000 ...\n",
      " $ month: Factor w/ 12 levels \"01_January\",\"02_February\",..: 1 2 3 4 5 6 7 8 9 10 ...\n"
     ]
    }
   ],
   "source": [
    "str(CHOC)"
   ]
  },
  {
   "cell_type": "code",
   "execution_count": 5,
   "metadata": {},
   "outputs": [
    {
     "data": {
      "text/plain": [
       "      time            sales              year              month   \n",
       " Min.   :  1.00   Min.   :  36.85   Min.   :2000   01_January :10  \n",
       " 1st Qu.: 30.75   1st Qu.:  82.88   1st Qu.:2002   02_February:10  \n",
       " Median : 60.50   Median : 163.04   Median :2004   03_March   :10  \n",
       " Mean   : 60.50   Mean   : 216.70   Mean   :2004   04_April   :10  \n",
       " 3rd Qu.: 90.25   3rd Qu.: 221.33   3rd Qu.:2007   05_May     :10  \n",
       " Max.   :120.00   Max.   :1068.62   Max.   :2009   06_June    :10  \n",
       "                                                   (Other)    :60  "
      ]
     },
     "metadata": {},
     "output_type": "display_data"
    }
   ],
   "source": [
    "summary(CHOC)"
   ]
  },
  {
   "cell_type": "markdown",
   "metadata": {},
   "source": [
    "There is about 10 years of monthly sales data. On average, 216 units were sold monthly."
   ]
  },
  {
   "cell_type": "markdown",
   "metadata": {},
   "source": [
    "### Data Visualization"
   ]
  },
  {
   "cell_type": "code",
   "execution_count": null,
   "metadata": {},
   "outputs": [],
   "source": []
  },
  {
   "cell_type": "code",
   "execution_count": null,
   "metadata": {},
   "outputs": [],
   "source": []
  },
  {
   "cell_type": "code",
   "execution_count": null,
   "metadata": {},
   "outputs": [],
   "source": []
  },
  {
   "cell_type": "code",
   "execution_count": null,
   "metadata": {},
   "outputs": [],
   "source": []
  },
  {
   "cell_type": "code",
   "execution_count": null,
   "metadata": {},
   "outputs": [],
   "source": []
  },
  {
   "cell_type": "code",
   "execution_count": null,
   "metadata": {},
   "outputs": [],
   "source": []
  },
  {
   "cell_type": "code",
   "execution_count": null,
   "metadata": {},
   "outputs": [],
   "source": []
  },
  {
   "cell_type": "code",
   "execution_count": null,
   "metadata": {},
   "outputs": [],
   "source": []
  },
  {
   "cell_type": "code",
   "execution_count": null,
   "metadata": {},
   "outputs": [],
   "source": []
  }
 ],
 "metadata": {
  "kernelspec": {
   "display_name": "R",
   "language": "R",
   "name": "ir"
  },
  "language_info": {
   "codemirror_mode": "r",
   "file_extension": ".r",
   "mimetype": "text/x-r-source",
   "name": "R",
   "pygments_lexer": "r",
   "version": "3.6.3"
  }
 },
 "nbformat": 4,
 "nbformat_minor": 4
}
